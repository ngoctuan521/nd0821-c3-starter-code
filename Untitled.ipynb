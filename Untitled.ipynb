{
 "cells": [
  {
   "cell_type": "code",
   "execution_count": 54,
   "id": "0f1781f3-20c0-4d99-819f-8d0a2021a32d",
   "metadata": {},
   "outputs": [],
   "source": [
    "import pandas as pd\n",
    "from sklearn.preprocessing import StandardScaler\n"
   ]
  },
  {
   "cell_type": "code",
   "execution_count": 16,
   "id": "930c47a2-9bd9-417b-9b5b-60fa1189c59b",
   "metadata": {},
   "outputs": [
    {
     "data": {
      "text/plain": [
       "(   age          workclass   fnlgt   education   education-num  \\\n",
       " 0   39          State-gov   77516   Bachelors              13   \n",
       " 1   50   Self-emp-not-inc   83311   Bachelors              13   \n",
       " 2   38            Private  215646     HS-grad               9   \n",
       " 3   53            Private  234721        11th               7   \n",
       " 4   28            Private  338409   Bachelors              13   \n",
       " \n",
       "         marital-status          occupation    relationship    race      sex  \\\n",
       " 0        Never-married        Adm-clerical   Not-in-family   White     Male   \n",
       " 1   Married-civ-spouse     Exec-managerial         Husband   White     Male   \n",
       " 2             Divorced   Handlers-cleaners   Not-in-family   White     Male   \n",
       " 3   Married-civ-spouse   Handlers-cleaners         Husband   Black     Male   \n",
       " 4   Married-civ-spouse      Prof-specialty            Wife   Black   Female   \n",
       " \n",
       "     capital-gain   capital-loss   hours-per-week  native-country  salary  \n",
       " 0           2174              0               40   United-States   <=50K  \n",
       " 1              0              0               13   United-States   <=50K  \n",
       " 2              0              0               40   United-States   <=50K  \n",
       " 3              0              0               40   United-States   <=50K  \n",
       " 4              0              0               40            Cuba   <=50K  ,\n",
       " (32561, 15))"
      ]
     },
     "execution_count": 16,
     "metadata": {},
     "output_type": "execute_result"
    }
   ],
   "source": [
    "path_df = 'starter/data/census.csv'\n",
    "\n",
    "df = pd.read_csv(path_df)\n",
    "df.head(), df.shape"
   ]
  },
  {
   "cell_type": "code",
   "execution_count": 17,
   "id": "2c3eadd8-d1fb-4ae2-8235-ce3b2749fdef",
   "metadata": {},
   "outputs": [],
   "source": [
    "with open(path_df, 'r') as fr:\n",
    "    with open('starter/data/clean_census.csv', 'w') as fw:\n",
    "        lines = fr.readlines()\n",
    "        lines = [line.replace(\" \", \"\") for line in lines]\n",
    "        fw.writelines(lines)\n"
   ]
  },
  {
   "cell_type": "code",
   "execution_count": 18,
   "id": "920bd886-1a56-4c85-af98-734d936a1417",
   "metadata": {
    "collapsed": true,
    "jupyter": {
     "outputs_hidden": true
    }
   },
   "outputs": [
    {
     "data": {
      "text/plain": [
       "(   age         workclass   fnlgt  education  education-num  \\\n",
       " 0   39         State-gov   77516  Bachelors             13   \n",
       " 1   50  Self-emp-not-inc   83311  Bachelors             13   \n",
       " 2   38           Private  215646    HS-grad              9   \n",
       " 3   53           Private  234721       11th              7   \n",
       " 4   28           Private  338409  Bachelors             13   \n",
       " \n",
       "        marital-status         occupation   relationship   race     sex  \\\n",
       " 0       Never-married       Adm-clerical  Not-in-family  White    Male   \n",
       " 1  Married-civ-spouse    Exec-managerial        Husband  White    Male   \n",
       " 2            Divorced  Handlers-cleaners  Not-in-family  White    Male   \n",
       " 3  Married-civ-spouse  Handlers-cleaners        Husband  Black    Male   \n",
       " 4  Married-civ-spouse     Prof-specialty           Wife  Black  Female   \n",
       " \n",
       "    capital-gain  capital-loss  hours-per-week native-country salary  \n",
       " 0          2174             0              40  United-States  <=50K  \n",
       " 1             0             0              13  United-States  <=50K  \n",
       " 2             0             0              40  United-States  <=50K  \n",
       " 3             0             0              40  United-States  <=50K  \n",
       " 4             0             0              40           Cuba  <=50K  ,\n",
       " (32561, 15))"
      ]
     },
     "execution_count": 18,
     "metadata": {},
     "output_type": "execute_result"
    }
   ],
   "source": [
    "path_df = 'starter/data/clean_census.csv'\n",
    "\n",
    "df = pd.read_csv(path_df)\n",
    "df.head(), df.shape"
   ]
  },
  {
   "cell_type": "code",
   "execution_count": 52,
   "id": "b476e59a-1932-4e78-8d34-eab788298cb4",
   "metadata": {},
   "outputs": [
    {
     "name": "stderr",
     "output_type": "stream",
     "text": [
      "/tmp/ipykernel_8903/3094183245.py:30: FutureWarning: Downcasting behavior in `replace` is deprecated and will be removed in a future version. To retain the old behavior, explicitly call `result.infer_objects(copy=False)`. To opt-in to the future behavior, set `pd.set_option('future.no_silent_downcasting', True)`\n",
      "  y = y.replace({'>50K': 1, '<=50K': 0}).to_numpy()\n"
     ]
    }
   ],
   "source": [
    "import pandas as pd\n",
    "from sklearn.model_selection import train_test_split\n",
    "from sklearn.preprocessing import OneHotEncoder\n",
    "from sklearn.svm import SVC\n",
    "\n",
    "# Đọc dữ liệu từ file CSV\n",
    "df = pd.read_csv(path_df)\n",
    "\n",
    "# Tách đầu vào X và nhãn y (giả sử cột nhãn là 'target')\n",
    "X = df.drop('salary', axis=1)  # Thay 'target' bằng tên cột nhãn của bạn\n",
    "y = df['salary']               # Thay 'target' bằng tên cột nhãn của bạn\n",
    "\n",
    "# Chọn các cột dạng category\n",
    "categorical_cols = X.select_dtypes(include=['object']).columns\n",
    "\n",
    "# Khởi tạo OneHotEncoder\n",
    "encoder = OneHotEncoder(drop='first', sparse_output=False)\n",
    "\n",
    "# Thực hiện one-hot encoding cho các cột category\n",
    "X_encoded = encoder.fit_transform(X[categorical_cols])\n",
    "\n",
    "# Chuyển các cột đã mã hóa thành DataFrame và ghép với các cột không phải category\n",
    "X_encoded_df = pd.DataFrame(X_encoded, columns=encoder.get_feature_names_out(categorical_cols))\n",
    "X_other_cols = X.drop(categorical_cols, axis=1).reset_index(drop=True)\n",
    "\n",
    "# Ghép các cột lại với nhau\n",
    "X_final = pd.concat([X_other_cols, X_encoded_df], axis=1)\n",
    "\n",
    "\n",
    "y = y.replace({'>50K': 1, '<=50K': 0}).to_numpy()\n",
    "x = X_final.to_numpy()"
   ]
  },
  {
   "cell_type": "code",
   "execution_count": 73,
   "id": "ecada2c8-881d-4a09-a460-b7c0df9aca9c",
   "metadata": {},
   "outputs": [
    {
     "data": {
      "text/plain": [
       "Index(['workclass', 'education', 'marital-status', 'occupation',\n",
       "       'relationship', 'race', 'sex', 'native-country'],\n",
       "      dtype='object')"
      ]
     },
     "execution_count": 73,
     "metadata": {},
     "output_type": "execute_result"
    }
   ],
   "source": [
    "X.select_dtypes(include=['object']).columns"
   ]
  },
  {
   "cell_type": "code",
   "execution_count": null,
   "id": "1f0f3c20-e0f1-4843-a1cb-33daa975ac3c",
   "metadata": {},
   "outputs": [],
   "source": []
  },
  {
   "cell_type": "code",
   "execution_count": 57,
   "id": "494f30e5-c0ad-45da-a58f-07623013dc64",
   "metadata": {},
   "outputs": [
    {
     "name": "stdout",
     "output_type": "stream",
     "text": [
      "begin training\n",
      "train is done.\n",
      "Độ chính xác của mô hình: 0.7984031936127745\n"
     ]
    }
   ],
   "source": [
    "# Chuẩn hóa dữ liệu X_final\n",
    "X_final_normalized = StandardScaler().fit_transform(x)\n",
    "X_train, X_test, y_train, y_test = train_test_split(x, y, test_size=0.2, random_state=42)\n",
    "\n",
    "# Khởi tạo mô hình SVM\n",
    "print('training...')\n",
    "model = SVC(class_weight='balanced')\n",
    "# Huấn luyện mô hình trên tập huấn luyện\n",
    "model.fit(X_train, y_train)\n",
    "print('train is done.')\n",
    "\n",
    "# Đánh giá mô hình trên tập kiểm tra\n",
    "accuracy = model.score(X_test, y_test)\n",
    "print(\"Độ chính xác của mô hình:\", accuracy)"
   ]
  },
  {
   "cell_type": "code",
   "execution_count": 72,
   "id": "257702ff-5e26-4caf-84b5-6525600c5282",
   "metadata": {},
   "outputs": [
    {
     "data": {
      "text/plain": [
       "array([1])"
      ]
     },
     "execution_count": 72,
     "metadata": {},
     "output_type": "execute_result"
    }
   ],
   "source": [
    "model.predict(X_train[11].reshape(-1,100))\n",
    "# X_train[0].reshape(-1,100).shape"
   ]
  },
  {
   "cell_type": "code",
   "execution_count": 74,
   "id": "982fb004-84e6-4105-96a6-7445edb2d9af",
   "metadata": {},
   "outputs": [
    {
     "data": {
      "text/plain": [
       "(1, 100)"
      ]
     },
     "execution_count": 74,
     "metadata": {},
     "output_type": "execute_result"
    }
   ],
   "source": [
    "X_train[11].reshape(1,-1).shape"
   ]
  },
  {
   "cell_type": "code",
   "execution_count": 25,
   "id": "fba7ccc9-f99d-4bf8-9fa7-77e7e6e25241",
   "metadata": {},
   "outputs": [
    {
     "name": "stdout",
     "output_type": "stream",
     "text": [
      "Độ chính xác của mô hình: 0.7956394902502687\n"
     ]
    }
   ],
   "source": [
    "X_train, X_test, y_train, y_test = train_test_split(X_final, y, test_size=0.2, random_state=42)\n",
    "\n",
    "# Khởi tạo mô hình SVM\n",
    "model = SVC(class_weight='balanced')\n",
    "\n",
    "# Huấn luyện mô hình trên tập huấn luyện\n",
    "model.fit(X_train, y_train)\n",
    "\n",
    "# Đánh giá mô hình trên tập kiểm tra\n",
    "accuracy = model.score(X_test, y_test)\n",
    "print(\"Độ chính xác của mô hình:\", accuracy)"
   ]
  },
  {
   "cell_type": "code",
   "execution_count": 26,
   "id": "bd1d5d01-e40b-4004-a6a0-2719c22ec981",
   "metadata": {},
   "outputs": [
    {
     "name": "stdout",
     "output_type": "stream",
     "text": [
      "Độ chính xác của mô hình: 0.7984031936127745\n"
     ]
    }
   ],
   "source": [
    "X_train, X_test, y_train, y_test = train_test_split(X_final, y, test_size=0.2, random_state=42)\n",
    "\n",
    "# Khởi tạo mô hình SVM\n",
    "model = SVC(class_weight='balanced')\n",
    "\n",
    "# Huấn luyện mô hình trên tập huấn luyện\n",
    "model.fit(X_train, y_train)\n",
    "\n",
    "# Đánh giá mô hình trên tập kiểm tra\n",
    "accuracy = model.score(X_test, y_test)\n",
    "print(\"Độ chính xác của mô hình:\", accuracy)"
   ]
  },
  {
   "cell_type": "code",
   "execution_count": 27,
   "id": "517149ee-4b3b-4fbf-88c8-c817ff6c0045",
   "metadata": {},
   "outputs": [
    {
     "name": "stdout",
     "output_type": "stream",
     "text": [
      "Độ chính xác của mô hình: 0.8023952095808383\n"
     ]
    }
   ],
   "source": [
    "from sklearn.preprocessing import StandardScaler\n",
    "\n",
    "# Khởi tạo StandardScaler\n",
    "scaler = StandardScaler()\n",
    "\n",
    "# Chuẩn hóa dữ liệu X_final\n",
    "X_final_normalized = scaler.fit_transform(X_final)\n",
    "\n",
    "# Chuyển kết quả thành DataFrame với tên cột như cũ\n",
    "X_final_normalized = pd.DataFrame(X_final_normalized, columns=X_final.columns)\n",
    "X_train, X_test, y_train, y_test = train_test_split(X_final_normalized, y, test_size=0.2, random_state=42)\n",
    "\n",
    "# Khởi tạo mô hình SVM\n",
    "model = SVC(class_weight='balanced')\n",
    "\n",
    "# Huấn luyện mô hình trên tập huấn luyện\n",
    "model.fit(X_train, y_train)\n",
    "\n",
    "# Đánh giá mô hình trên tập kiểm tra\n",
    "accuracy = model.score(X_test, y_test)\n",
    "print(\"Độ chính xác của mô hình:\", accuracy)"
   ]
  },
  {
   "cell_type": "code",
   "execution_count": null,
   "id": "8f74d7de-15ae-434a-86d2-efc3ccfa9d5f",
   "metadata": {},
   "outputs": [],
   "source": [
    "import numpy as np\n",
    "\n",
    "np.random()"
   ]
  }
 ],
 "metadata": {
  "kernelspec": {
   "display_name": "Python 3 (ipykernel)",
   "language": "python",
   "name": "python3"
  },
  "language_info": {
   "codemirror_mode": {
    "name": "ipython",
    "version": 3
   },
   "file_extension": ".py",
   "mimetype": "text/x-python",
   "name": "python",
   "nbconvert_exporter": "python",
   "pygments_lexer": "ipython3",
   "version": "3.12.4"
  }
 },
 "nbformat": 4,
 "nbformat_minor": 5
}
